{
 "cells": [
  {
   "cell_type": "markdown",
   "metadata": {},
   "source": [
    "# Chapter 11\n",
    "## Metrics for model evaluations and comparisons\n",
    "This notebook is a companion to the book _XGBoost for Regression Predictive Modeling and Time Series Analysis_.\n",
    "This chapter examines differnet metrics for evaluating model performance."
   ]
  },
  {
   "cell_type": "code",
   "execution_count": 2,
   "metadata": {},
   "outputs": [],
   "source": [
    "# ----------------------------------------\n",
    "# filename metricsformodeleval.ipynb\n",
    "# purpose use metrics to evaluate model\n",
    "# performance\n",
    "# author Joyce Weiner\n",
    "# revision 1.0\n",
    "# revision history 1.0 - initial script\n",
    "# ----------------------------------------"
   ]
  },
  {
   "cell_type": "markdown",
   "metadata": {},
   "source": [
    "## Binary classifier metrics: precision, recall, and F1 score  "
   ]
  },
  {
   "cell_type": "code",
   "execution_count": 3,
   "metadata": {},
   "outputs": [],
   "source": [
    "y_pred = [0,0,0,0,0,0,0,1,1,1,0,1,1,1,1,1,1,1,1,1] \n",
    "y_true = [0,0,0,0,0,0,0,0,0,0,1,1,1,1,1,1,1,1,1,1]"
   ]
  },
  {
   "cell_type": "markdown",
   "metadata": {},
   "source": [
    "### Calculate accuracy"
   ]
  },
  {
   "cell_type": "code",
   "execution_count": 4,
   "metadata": {},
   "outputs": [
    {
     "name": "stdout",
     "output_type": "stream",
     "text": [
      "Accuracy =  0.8\n"
     ]
    }
   ],
   "source": [
    "from sklearn.metrics import accuracy_score\n",
    "accuracy = accuracy_score(y_true, y_pred)\n",
    "print (\"Accuracy = \", accuracy)"
   ]
  },
  {
   "cell_type": "markdown",
   "metadata": {},
   "source": [
    "### Calculate precision and recall"
   ]
  },
  {
   "cell_type": "code",
   "execution_count": 5,
   "metadata": {},
   "outputs": [
    {
     "name": "stdout",
     "output_type": "stream",
     "text": [
      "Precision =  0.75\n",
      "Recall =  0.9\n"
     ]
    }
   ],
   "source": [
    "from sklearn.metrics import precision_score, recall_score\n",
    "precision = precision_score(y_true, y_pred)\n",
    "recall = recall_score(y_true, y_pred)\n",
    "\n",
    "print (\"Precision = \", precision)\n",
    "print (\"Recall = \", recall)"
   ]
  },
  {
   "cell_type": "markdown",
   "metadata": {},
   "source": [
    "### Calculate F<sub>1</sub> score"
   ]
  },
  {
   "cell_type": "code",
   "execution_count": 6,
   "metadata": {},
   "outputs": [
    {
     "name": "stdout",
     "output_type": "stream",
     "text": [
      "F1 Score = 0.818\n"
     ]
    }
   ],
   "source": [
    "from sklearn.metrics import f1_score\n",
    "f1 = f1_score(y_true, y_pred)\n",
    "\n",
    "print(f\"F1 Score = {f1:.3f}\")"
   ]
  },
  {
   "cell_type": "markdown",
   "metadata": {},
   "source": [
    "### Calculate accuracy, precision, recall, and F1 score for a model with imbalanced data (few defects): "
   ]
  },
  {
   "cell_type": "code",
   "execution_count": 7,
   "metadata": {},
   "outputs": [
    {
     "name": "stdout",
     "output_type": "stream",
     "text": [
      "Accuracy, precision, recall, F1 score for an imbalanced classifier\n",
      "Accuracy = 0.950\n",
      "Precision = 1.000\n",
      "Recall = 0.500\n",
      "F1 Score = 0.667\n"
     ]
    }
   ],
   "source": [
    "y_true_imbalanced = [0,0,1,1,0,0,0,0,0,0,0,0,0,0,0,0,0,0,0,0]\n",
    "y_pred_imbalanced = [0,0,1,0,0,0,0,0,0,0,0,0,0,0,0,0,0,0,0,0]\n",
    "accuracy_no_defect = accuracy_score(y_true_imbalanced, y_pred_imbalanced)\n",
    "precision_no_defect = precision_score(y_true_imbalanced, y_pred_imbalanced)\n",
    "recall_no_defect = recall_score(y_true_imbalanced, y_pred_imbalanced)\n",
    "f1_no_defect = f1_score(y_true_imbalanced, y_pred_imbalanced)\n",
    "\n",
    "print (\"Accuracy, precision, recall, F1 score for an imbalanced classifier\")\n",
    "print (f\"Accuracy = {accuracy_no_defect:.3f}\")\n",
    "print (f\"Precision = {precision_no_defect:.3f}\")\n",
    "print (f\"Recall = {recall_no_defect:.3f}\")\n",
    "print (f\"F1 Score = {f1_no_defect:.3f}\")"
   ]
  },
  {
   "cell_type": "markdown",
   "metadata": {},
   "source": [
    "### Calculate accuracy, precision, recall, and F1 score for a model with imbalanced data (mostly defects): "
   ]
  },
  {
   "cell_type": "code",
   "execution_count": 8,
   "metadata": {},
   "outputs": [
    {
     "name": "stdout",
     "output_type": "stream",
     "text": [
      "Accuracy, precision, recall, F1 score for an imbalanced classifier\n",
      "Accuracy = 0.950\n",
      "Precision = 0.947\n",
      "Recall = 1.000\n",
      "F1 Score = 0.973\n"
     ]
    }
   ],
   "source": [
    "y_true_defects = [1,1,0,0,1,1,1,1,1,1,1,1,1,1,1,1,1,1,1,1]\n",
    "y_pred_defects = [1,1,0,1,1,1,1,1,1,1,1,1,1,1,1,1,1,1,1,1]\n",
    "accuracy_defects = accuracy_score(y_true_defects, y_pred_defects)\n",
    "precision_defects = precision_score(y_true_defects, y_pred_defects)\n",
    "recall_defects = recall_score(y_true_defects, y_pred_defects)\n",
    "f1_defects = f1_score(y_true_defects, y_pred_defects)\n",
    "\n",
    "print (\"Accuracy, precision, recall, F1 score for an imbalanced classifier\")\n",
    "print (f\"Accuracy = {accuracy_defects:.3f}\")\n",
    "print (f\"Precision = {precision_defects:.3f}\")\n",
    "print (f\"Recall = {recall_defects:.3f}\")\n",
    "print (f\"F1 Score = {f1_defects:.3f}\")\n"
   ]
  },
  {
   "cell_type": "markdown",
   "metadata": {},
   "source": [
    "## Graphical analysis of binary classification ROC-AUC curves and confusion matrix "
   ]
  },
  {
   "cell_type": "markdown",
   "metadata": {},
   "source": [
    "### ROC-AUC Curve"
   ]
  },
  {
   "cell_type": "code",
   "execution_count": 9,
   "metadata": {},
   "outputs": [
    {
     "data": {
      "text/plain": [
       "<sklearn.metrics._plot.roc_curve.RocCurveDisplay at 0x212a31fe8d0>"
      ]
     },
     "execution_count": 9,
     "metadata": {},
     "output_type": "execute_result"
    },
    {
     "data": {
      "image/png": "[encoded data removed]",
      "text/plain": [
       "<Figure size 640x480 with 1 Axes>"
      ]
     },
     "metadata": {},
     "output_type": "display_data"
    }
   ],
   "source": [
    "from sklearn.metrics import RocCurveDisplay\n",
    "RocCurveDisplay.from_predictions(y_true, y_pred)"
   ]
  },
  {
   "cell_type": "markdown",
   "metadata": {},
   "source": [
    "### Confusion matrix"
   ]
  },
  {
   "cell_type": "code",
   "execution_count": 10,
   "metadata": {},
   "outputs": [
    {
     "data": {
      "text/plain": [
       "<sklearn.metrics._plot.confusion_matrix.ConfusionMatrixDisplay at 0x212a2b768a0>"
      ]
     },
     "execution_count": 10,
     "metadata": {},
     "output_type": "execute_result"
    },
    {
     "data": {
      "image/png": "[encoded data removed]",
      "text/plain": [
       "<Figure size 640x480 with 2 Axes>"
      ]
     },
     "metadata": {},
     "output_type": "display_data"
    }
   ],
   "source": [
    "from sklearn.metrics import ConfusionMatrixDisplay\n",
    "ConfusionMatrixDisplay.from_predictions(y_true, y_pred)"
   ]
  },
  {
   "cell_type": "markdown",
   "metadata": {},
   "source": [
    "## Multi-class classifier metrics: Micro and Macro Averages "
   ]
  },
  {
   "cell_type": "code",
   "execution_count": 11,
   "metadata": {},
   "outputs": [
    {
     "data": {
      "text/plain": [
       "<sklearn.metrics._plot.confusion_matrix.ConfusionMatrixDisplay at 0x212a3b2fce0>"
      ]
     },
     "execution_count": 11,
     "metadata": {},
     "output_type": "execute_result"
    },
    {
     "data": {
      "image/png": "[encoded data removed]",
      "text/plain": [
       "<Figure size 640x480 with 2 Axes>"
      ]
     },
     "metadata": {},
     "output_type": "display_data"
    }
   ],
   "source": [
    "# Grading tomatoes example\n",
    "\n",
    "grades = [\"Excellent\", \"Good\", \"Fair\",\"Poor\"]\n",
    "y_true_tomatoes = [1,1,1,1,2,2,2,2,2,3,3,3,4,4,4,4]\n",
    "y_pred_tomatoes = [2,1,3,1,2,2,2,3,4,3,4,2,4,4,3,4]\n",
    "\n",
    "ConfusionMatrixDisplay.from_predictions(y_true_tomatoes, y_pred_tomatoes)"
   ]
  },
  {
   "cell_type": "code",
   "execution_count": 12,
   "metadata": {},
   "outputs": [
    {
     "name": "stdout",
     "output_type": "stream",
     "text": [
      "              precision    recall  f1-score   support\n",
      "\n",
      "   Excellent       1.00      0.50      0.67         4\n",
      "        Good       0.60      0.60      0.60         5\n",
      "        Fair       0.25      0.33      0.29         3\n",
      "        Poor       0.60      0.75      0.67         4\n",
      "\n",
      "    accuracy                           0.56        16\n",
      "   macro avg       0.61      0.55      0.55        16\n",
      "weighted avg       0.63      0.56      0.57        16\n",
      "\n"
     ]
    }
   ],
   "source": [
    "from sklearn.metrics import classification_report\n",
    "\n",
    "print(classification_report(y_true_tomatoes, y_pred_tomatoes,target_names=grades))"
   ]
  },
  {
   "cell_type": "markdown",
   "metadata": {},
   "source": [
    "### Measure the time it takes for execution of a block of code"
   ]
  },
  {
   "cell_type": "code",
   "execution_count": 14,
   "metadata": {},
   "outputs": [
    {
     "name": "stdout",
     "output_type": "stream",
     "text": [
      "0\n",
      "1\n",
      "2\n",
      "3\n",
      "4\n",
      "5\n",
      "6\n",
      "7\n",
      "8\n",
      "9\n",
      "The code executed in 0.00044 seconds\n"
     ]
    }
   ],
   "source": [
    "import time\n",
    "start_time = time.perf_counter()\n",
    "\n",
    "# replace this for-loop with what you want to measure\n",
    "for i in range(10):\n",
    "    print(i)\n",
    "\n",
    "end_time = time.perf_counter()\n",
    "\n",
    "elapsed_time = end_time - start_time\n",
    "print (f\"The code executed in {elapsed_time:.5f} seconds\")"
   ]
  }
 ],
 "metadata": {
  "kernelspec": {
   "display_name": "xgboost_book_project",
   "language": "python",
   "name": "python3"
  },
  "language_info": {
   "codemirror_mode": {
    "name": "ipython",
    "version": 3
   },
   "file_extension": ".py",
   "mimetype": "text/x-python",
   "name": "python",
   "nbconvert_exporter": "python",
   "pygments_lexer": "ipython3",
   "version": "3.12.2"
  }
 },
 "nbformat": 4,
 "nbformat_minor": 2
}
